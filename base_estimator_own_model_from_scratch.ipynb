{
 "cells": [
  {
   "cell_type": "code",
   "execution_count": 9,
   "metadata": {
    "_cell_guid": "79c7e3d0-c299-4dcb-8224-4455121ee9b0",
    "_uuid": "d629ff2d2480ee46fbb7e2d37f6b5fab8052498a",
    "id": "5KcWjbHZL-Bq"
   },
   "outputs": [],
   "source": [
    "import pickle as pkl\n",
    "from sklearn.base import BaseEstimator\n",
    "import numpy as np\n",
    "import matplotlib.pyplot as plt"
   ]
  },
  {
   "cell_type": "code",
   "execution_count": 31,
   "metadata": {
    "id": "ZIOcg2m2L-Bs"
   },
   "outputs": [],
   "source": [
    "class LRScratch(BaseEstimator):\n",
    "    \n",
    "    def __init__(self, demo_param='demo_param'):\n",
    "        self.demo_param = demo_param\n",
    "    \n",
    "    def fit(self,X,y):\n",
    "        self.Xb = np.c_[np.ones((X.shape[0],1)),X] #adding x0 = 1\n",
    "        self.theta_ = np.linalg.inv(self.Xb.T.dot(self.Xb)).dot(self.Xb.T).dot(y)\n",
    "        print(\"Training Completed\")\n",
    "        \n",
    "    def predict(self,X_test):\n",
    "        self.X_new = np.c_[np.ones((len(X_test),1)),X_test]\n",
    "        y_predict = self.X_new.dot(self.theta_)\n",
    "        return y_predict"
   ]
  },
  {
   "cell_type": "code",
   "execution_count": 12,
   "metadata": {
    "id": "jXfqX8IHL-Bv"
   },
   "outputs": [],
   "source": [
    "X = np.arange(1,4).reshape(3,1)\n",
    "y = np.arange(1,4).reshape(3,1)"
   ]
  },
  {
   "cell_type": "code",
   "execution_count": 13,
   "metadata": {
    "id": "Izr8C0tTL-Bx"
   },
   "outputs": [],
   "source": [
    "lr = LRScratch()"
   ]
  },
  {
   "cell_type": "code",
   "execution_count": 14,
   "metadata": {
    "colab": {
     "base_uri": "https://localhost:8080/"
    },
    "id": "H4GMMAuAL-Bz",
    "outputId": "168ccbd8-00f9-4959-8af2-8d254e1b8349"
   },
   "outputs": [
    {
     "name": "stdout",
     "output_type": "stream",
     "text": [
      "Training Completed\n"
     ]
    }
   ],
   "source": [
    "lr.fit(X,y)"
   ]
  },
  {
   "cell_type": "code",
   "execution_count": 15,
   "metadata": {
    "colab": {
     "base_uri": "https://localhost:8080/"
    },
    "id": "gKZJQ8JtL-B1",
    "outputId": "106711de-dae8-4115-b5a4-d5bf62e02855"
   },
   "outputs": [
    {
     "data": {
      "text/plain": [
       "array([[8.8817842e-16],\n",
       "       [1.0000000e+00]])"
      ]
     },
     "execution_count": 15,
     "metadata": {},
     "output_type": "execute_result"
    }
   ],
   "source": [
    "lr.theta_"
   ]
  },
  {
   "cell_type": "code",
   "execution_count": 16,
   "metadata": {
    "colab": {
     "base_uri": "https://localhost:8080/"
    },
    "id": "qxbkNt4TL-B4",
    "outputId": "8b928bbf-d7a1-4900-cae5-316c07651561"
   },
   "outputs": [
    {
     "data": {
      "text/plain": [
       "array([[1.],\n",
       "       [2.],\n",
       "       [3.]])"
      ]
     },
     "execution_count": 16,
     "metadata": {},
     "output_type": "execute_result"
    }
   ],
   "source": [
    "lr.predict(X)"
   ]
  },
  {
   "cell_type": "code",
   "execution_count": 18,
   "metadata": {},
   "outputs": [],
   "source": [
    "with open('model_pkl_2.pkl','wb') as file:\n",
    "    pkl.dump(lr,file)"
   ]
  },
  {
   "cell_type": "markdown",
   "metadata": {
    "id": "7g-UpQqBL-CH"
   },
   "source": [
    "## Making sure that Model matches all the checks by Scikit learn"
   ]
  },
  {
   "cell_type": "code",
   "execution_count": 19,
   "metadata": {
    "id": "MSZr8U4rL-CI"
   },
   "outputs": [],
   "source": [
    "from sklearn.utils.estimator_checks import check_estimator\n",
    "from sklearn.utils.validation import check_X_y, check_array, check_is_fitted"
   ]
  },
  {
   "cell_type": "markdown",
   "metadata": {
    "id": "Qv32wFJpL-CK"
   },
   "source": [
    "Note:\n",
    "All variables inside the Class should end with underscore"
   ]
  },
  {
   "cell_type": "code",
   "execution_count": 20,
   "metadata": {
    "id": "LXzY3_6vL-CK"
   },
   "outputs": [],
   "source": [
    "class LRScratch(BaseEstimator):\n",
    "    def fit(self,X,y):\n",
    "        X,y = check_X_y(X,y) #Checking if both X & y has correct shape\n",
    "        self.n_features_in_ = X.shape[1] #Setting the number of features in Input data (new as per 0.24)\n",
    "        self.Xb_ = np.c_[np.ones((X.shape[0],1)),X] #adding x0 = 1\n",
    "        self.theta_ = np.linalg.inv(self.Xb_.T.dot(self.Xb_)).dot(self.Xb_.T).dot(y)\n",
    "        self.coef_ = self.theta_[1:]\n",
    "        self.intercept_ = self.theta_[0]\n",
    "        print(\"Training Completed\")\n",
    "        return self #Should Return Self : Mandatory\n",
    "        \n",
    "    def predict(self,X_test):\n",
    "        check_is_fitted(self) # Check to verify the Fit has been called\n",
    "        X_test = check_array(X_test) # Validate the input\n",
    "        return X_test@self.coef_+self.intercept_"
   ]
  },
  {
   "cell_type": "code",
   "execution_count": 21,
   "metadata": {
    "id": "9JPqO5wKL-CM"
   },
   "outputs": [],
   "source": [
    "LR = LRScratch()"
   ]
  },
  {
   "cell_type": "code",
   "execution_count": 26,
   "metadata": {
    "id": "0TLuMwypL-CO"
   },
   "outputs": [
    {
     "name": "stdout",
     "output_type": "stream",
     "text": [
      "Training Completed\n",
      "Training Completed\n",
      "Training Completed\n",
      "Training Completed\n",
      "Training Completed\n",
      "Training Completed\n",
      "Training Completed\n",
      "Training Completed\n",
      "Training Completed\n",
      "Training Completed\n",
      "Training Completed\n",
      "Training Completed\n",
      "Training Completed\n",
      "Training Completed\n",
      "Training Completed\n",
      "Training Completed\n",
      "Training Completed\n",
      "Training Completed\n",
      "Training Completed\n",
      "Training Completed\n",
      "Training Completed\n",
      "Training Completed\n",
      "Training Completed\n",
      "Training Completed\n"
     ]
    }
   ],
   "source": [
    "check_estimator(LR)"
   ]
  },
  {
   "cell_type": "code",
   "execution_count": null,
   "metadata": {
    "id": "TUMa7E25L-CQ"
   },
   "outputs": [],
   "source": [
    "# Any parameters to get during the creation of model, We can add it in the __init__() method"
   ]
  }
 ],
 "metadata": {
  "colab": {
   "collapsed_sections": [],
   "name": "base-estimator-own-model-from-scratch.ipynb",
   "provenance": []
  },
  "kernelspec": {
   "display_name": "Python 3",
   "language": "python",
   "name": "python3"
  },
  "language_info": {
   "codemirror_mode": {
    "name": "ipython",
    "version": 3
   },
   "file_extension": ".py",
   "mimetype": "text/x-python",
   "name": "python",
   "nbconvert_exporter": "python",
   "pygments_lexer": "ipython3",
   "version": "3.8.5"
  }
 },
 "nbformat": 4,
 "nbformat_minor": 1
}
